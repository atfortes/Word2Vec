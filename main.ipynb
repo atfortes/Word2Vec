{
 "cells": [
  {
   "cell_type": "markdown",
   "metadata": {},
   "source": [
    "#### imports and setup"
   ]
  },
  {
   "cell_type": "code",
   "execution_count": null,
   "metadata": {},
   "outputs": [],
   "source": [
    "import nltk\n",
    "import torch\n",
    "from utils import *\n",
    "from constants import *\n",
    "from train import train\n",
    "from skipgram import SkipGram\n",
    "from text8_dataset import Text8Dataset\n",
    "from torch.utils.data import DataLoader"
   ]
  },
  {
   "cell_type": "code",
   "execution_count": null,
   "metadata": {},
   "outputs": [],
   "source": [
    "nltk.download('stopwords')"
   ]
  },
  {
   "cell_type": "markdown",
   "metadata": {},
   "source": [
    "#### hyperparameters"
   ]
  },
  {
   "cell_type": "code",
   "execution_count": null,
   "metadata": {},
   "outputs": [],
   "source": [
    "EPOCHS = 5\n",
    "WINDOW_SIZE = 5\n",
    "BATCH_SIZE = 1024\n",
    "SUB_SAMP_MIN = 5\n",
    "SUB_SAMP_T = 1e-5\n",
    "TRAIN_SIZE = -1\n",
    "LEARNING_RATE = 0.01\n",
    "NEG_SAMPLING_SIZE = 5\n",
    "NEG_SAMPLING_POOL_SIZE = 1e4\n",
    "EMBEDDING_DIM = 300\n",
    "\n",
    "SAMPLES = [\n",
    "    'soccer','baseball','basketball','tennis','boxing',  # sports\n",
    "    \"lettuce\",\"broccoli\",\"carrot\",\"spinach\",\"asparagus\",  # vegetables\n",
    "    \"uncle\",\"grandfather\",\"brother\",\"stepfather\",\"dad\"  # male family members\n",
    "]"
   ]
  },
  {
   "cell_type": "markdown",
   "metadata": {},
   "source": [
    "#### experiment"
   ]
  },
  {
   "cell_type": "code",
   "execution_count": null,
   "metadata": {},
   "outputs": [],
   "source": [
    "dataset = Text8Dataset(CORPUS_FILENAME, TRAIN_SIZE, SUB_SAMP_MIN, SUB_SAMP_T, WINDOW_SIZE, NEG_SAMPLING_POOL_SIZE, NEG_SAMPLING_SIZE)\n",
    "print(len(dataset.word2idx))\n",
    "print(dataset.__len__())"
   ]
  },
  {
   "cell_type": "code",
   "execution_count": null,
   "metadata": {},
   "outputs": [],
   "source": [
    "model = SkipGram(len(dataset.word2idx), EMBEDDING_DIM).to(DEVICE)\n",
    "dataloader = DataLoader(dataset, collate_fn=dataset.collate_fn, batch_size=BATCH_SIZE)\n",
    "optimizer = torch.optim.SparseAdam(model.parameters())\n",
    "train(model, dataset, dataloader, optimizer, EPOCHS, DEVICE)"
   ]
  },
  {
   "cell_type": "code",
   "execution_count": null,
   "metadata": {},
   "outputs": [],
   "source": [
    "plot_embeddings(model, dataset, SAMPLES)"
   ]
  }
 ],
 "metadata": {
  "interpreter": {
   "hash": "95fffe04368694b2745a3b09c8da6d699eb313271d525f767a40c42bece10dbc"
  },
  "kernelspec": {
   "display_name": "Python 3.9.7 ('nlp_torch')",
   "language": "python",
   "name": "python3"
  },
  "language_info": {
   "codemirror_mode": {
    "name": "ipython",
    "version": 3
   },
   "file_extension": ".py",
   "mimetype": "text/x-python",
   "name": "python",
   "nbconvert_exporter": "python",
   "pygments_lexer": "ipython3",
   "version": "3.9.7"
  },
  "orig_nbformat": 4
 },
 "nbformat": 4,
 "nbformat_minor": 2
}
